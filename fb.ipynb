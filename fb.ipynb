{
 "cells": [
  {
   "cell_type": "code",
   "execution_count": 1,
   "metadata": {},
   "outputs": [],
   "source": [
    "import pandas as pd\n",
    "import numpy as np\n",
    "import matplotlib.pyplot as plt\n",
    "from fbprophet import Prophet"
   ]
  },
  {
   "cell_type": "code",
   "execution_count": 2,
   "metadata": {},
   "outputs": [
    {
     "name": "stdout",
     "output_type": "stream",
     "text": [
      "AAPL.csv    fb.ipynb  __pycache__\t\t\tTSLAdata.csv\r\n",
      "AMZN.csv    GOOG.csv  Stock-Predictor-using-LSTM.ipynb\r\n",
      "FB.csv\t    lstm.py   Test.ipynb\r\n",
      "FBdata.csv  NFLX.csv  TSLA.csv\r\n"
     ]
    }
   ],
   "source": [
    "!ls"
   ]
  },
  {
   "cell_type": "code",
   "execution_count": 3,
   "metadata": {},
   "outputs": [
    {
     "data": {
      "text/html": [
       "<div>\n",
       "<style scoped>\n",
       "    .dataframe tbody tr th:only-of-type {\n",
       "        vertical-align: middle;\n",
       "    }\n",
       "\n",
       "    .dataframe tbody tr th {\n",
       "        vertical-align: top;\n",
       "    }\n",
       "\n",
       "    .dataframe thead th {\n",
       "        text-align: right;\n",
       "    }\n",
       "</style>\n",
       "<table border=\"1\" class=\"dataframe\">\n",
       "  <thead>\n",
       "    <tr style=\"text-align: right;\">\n",
       "      <th></th>\n",
       "      <th>Timestamp</th>\n",
       "      <th>Sequence</th>\n",
       "      <th>Open</th>\n",
       "      <th>High</th>\n",
       "      <th>Low</th>\n",
       "      <th>Close</th>\n",
       "      <th>Volume</th>\n",
       "    </tr>\n",
       "    <tr>\n",
       "      <th>Timestamp</th>\n",
       "      <th></th>\n",
       "      <th></th>\n",
       "      <th></th>\n",
       "      <th></th>\n",
       "      <th></th>\n",
       "      <th></th>\n",
       "      <th></th>\n",
       "    </tr>\n",
       "  </thead>\n",
       "  <tbody>\n",
       "    <tr>\n",
       "      <th>2018-03-12 15:46:00</th>\n",
       "      <td>2018-03-12 15:46:00</td>\n",
       "      <td>a1520869560</td>\n",
       "      <td>1171.1950</td>\n",
       "      <td>1171.78</td>\n",
       "      <td>1170.8517</td>\n",
       "      <td>1171.5400</td>\n",
       "      <td>7176</td>\n",
       "    </tr>\n",
       "    <tr>\n",
       "      <th>2018-03-12 15:47:00</th>\n",
       "      <td>2018-03-12 15:47:00</td>\n",
       "      <td>1</td>\n",
       "      <td>1171.3297</td>\n",
       "      <td>1171.78</td>\n",
       "      <td>1171.0838</td>\n",
       "      <td>1171.7800</td>\n",
       "      <td>2133</td>\n",
       "    </tr>\n",
       "    <tr>\n",
       "      <th>2018-03-12 15:48:00</th>\n",
       "      <td>2018-03-12 15:48:00</td>\n",
       "      <td>2</td>\n",
       "      <td>1171.6500</td>\n",
       "      <td>1171.65</td>\n",
       "      <td>1171.1600</td>\n",
       "      <td>1171.4500</td>\n",
       "      <td>2000</td>\n",
       "    </tr>\n",
       "    <tr>\n",
       "      <th>2018-03-12 15:49:00</th>\n",
       "      <td>2018-03-12 15:49:00</td>\n",
       "      <td>3</td>\n",
       "      <td>1171.9900</td>\n",
       "      <td>1172.01</td>\n",
       "      <td>1171.4961</td>\n",
       "      <td>1171.4961</td>\n",
       "      <td>1949</td>\n",
       "    </tr>\n",
       "    <tr>\n",
       "      <th>2018-03-12 15:50:00</th>\n",
       "      <td>2018-03-12 15:50:00</td>\n",
       "      <td>4</td>\n",
       "      <td>1171.4100</td>\n",
       "      <td>1171.67</td>\n",
       "      <td>1171.2200</td>\n",
       "      <td>1171.6000</td>\n",
       "      <td>800</td>\n",
       "    </tr>\n",
       "  </tbody>\n",
       "</table>\n",
       "</div>"
      ],
      "text/plain": [
       "                              Timestamp     Sequence       Open     High  \\\n",
       "Timestamp                                                                  \n",
       "2018-03-12 15:46:00 2018-03-12 15:46:00  a1520869560  1171.1950  1171.78   \n",
       "2018-03-12 15:47:00 2018-03-12 15:47:00            1  1171.3297  1171.78   \n",
       "2018-03-12 15:48:00 2018-03-12 15:48:00            2  1171.6500  1171.65   \n",
       "2018-03-12 15:49:00 2018-03-12 15:49:00            3  1171.9900  1172.01   \n",
       "2018-03-12 15:50:00 2018-03-12 15:50:00            4  1171.4100  1171.67   \n",
       "\n",
       "                           Low      Close  Volume  \n",
       "Timestamp                                          \n",
       "2018-03-12 15:46:00  1170.8517  1171.5400    7176  \n",
       "2018-03-12 15:47:00  1171.0838  1171.7800    2133  \n",
       "2018-03-12 15:48:00  1171.1600  1171.4500    2000  \n",
       "2018-03-12 15:49:00  1171.4961  1171.4961    1949  \n",
       "2018-03-12 15:50:00  1171.2200  1171.6000     800  "
      ]
     },
     "execution_count": 3,
     "metadata": {},
     "output_type": "execute_result"
    }
   ],
   "source": [
    "col_names = ['Timestamp','Sequence','Open','High','Low','Close','Volume']\n",
    "tesla = pd.read_csv('GOOG.csv')\n",
    "tesla.columns = col_names\n",
    "tesla['Timestamp'] =  pd.to_datetime(tesla['Timestamp'],format='%Y-%m-%d %H:%M:%S')\n",
    "tesla.index = tesla['Timestamp']\n",
    "tesla.head()"
   ]
  },
  {
   "cell_type": "code",
   "execution_count": 30,
   "metadata": {},
   "outputs": [
    {
     "name": "stdout",
     "output_type": "stream",
     "text": [
      "<class 'pandas.core.frame.DataFrame'>\n",
      "DatetimeIndex: 30788 entries, 2018-03-12 15:46:00 to 2018-07-06 20:00:00\n",
      "Data columns (total 7 columns):\n",
      "Timestamp    30788 non-null datetime64[ns]\n",
      "Sequence     30788 non-null object\n",
      "Open         30788 non-null float64\n",
      "High         30788 non-null float64\n",
      "Low          30788 non-null float64\n",
      "Close        30788 non-null float64\n",
      "Volume       30788 non-null int64\n",
      "dtypes: datetime64[ns](1), float64(4), int64(1), object(1)\n",
      "memory usage: 3.1+ MB\n"
     ]
    }
   ],
   "source": [
    "tesla.info()"
   ]
  },
  {
   "cell_type": "code",
   "execution_count": 96,
   "metadata": {},
   "outputs": [
    {
     "data": {
      "text/plain": [
       "<matplotlib.axes._subplots.AxesSubplot at 0x7f296d31ccf8>"
      ]
     },
     "execution_count": 96,
     "metadata": {},
     "output_type": "execute_result"
    },
    {
     "data": {
      "image/png": "[encoded data removed]",
      "text/plain": [
       "<Figure size 432x288 with 1 Axes>"
      ]
     },
     "metadata": {},
     "output_type": "display_data"
    }
   ],
   "source": [
    "df = tesla.loc['2018-03-26':'2018-03-26'][['Open','High','Low','Close']]\n",
    "df.plot()"
   ]
  },
  {
   "cell_type": "code",
   "execution_count": 97,
   "metadata": {},
   "outputs": [
    {
     "data": {
      "text/plain": [
       "(389, 4)"
      ]
     },
     "execution_count": 97,
     "metadata": {},
     "output_type": "execute_result"
    }
   ],
   "source": [
    "df.shape"
   ]
  },
  {
   "cell_type": "code",
   "execution_count": 98,
   "metadata": {},
   "outputs": [],
   "source": [
    "df = df.reset_index()"
   ]
  },
  {
   "cell_type": "code",
   "execution_count": 99,
   "metadata": {},
   "outputs": [
    {
     "data": {
      "text/html": [
       "<div>\n",
       "<style scoped>\n",
       "    .dataframe tbody tr th:only-of-type {\n",
       "        vertical-align: middle;\n",
       "    }\n",
       "\n",
       "    .dataframe tbody tr th {\n",
       "        vertical-align: top;\n",
       "    }\n",
       "\n",
       "    .dataframe thead th {\n",
       "        text-align: right;\n",
       "    }\n",
       "</style>\n",
       "<table border=\"1\" class=\"dataframe\">\n",
       "  <thead>\n",
       "    <tr style=\"text-align: right;\">\n",
       "      <th></th>\n",
       "      <th>Open</th>\n",
       "      <th>High</th>\n",
       "      <th>Low</th>\n",
       "      <th>Close</th>\n",
       "    </tr>\n",
       "  </thead>\n",
       "  <tbody>\n",
       "    <tr>\n",
       "      <th>count</th>\n",
       "      <td>389.000000</td>\n",
       "      <td>389.000000</td>\n",
       "      <td>389.000000</td>\n",
       "      <td>389.000000</td>\n",
       "    </tr>\n",
       "    <tr>\n",
       "      <th>mean</th>\n",
       "      <td>1031.254140</td>\n",
       "      <td>1031.936498</td>\n",
       "      <td>1030.604140</td>\n",
       "      <td>1031.263224</td>\n",
       "    </tr>\n",
       "    <tr>\n",
       "      <th>std</th>\n",
       "      <td>11.379703</td>\n",
       "      <td>11.337249</td>\n",
       "      <td>11.367732</td>\n",
       "      <td>11.355548</td>\n",
       "    </tr>\n",
       "    <tr>\n",
       "      <th>min</th>\n",
       "      <td>1009.680000</td>\n",
       "      <td>1010.310000</td>\n",
       "      <td>1008.400000</td>\n",
       "      <td>1009.680000</td>\n",
       "    </tr>\n",
       "    <tr>\n",
       "      <th>25%</th>\n",
       "      <td>1022.000000</td>\n",
       "      <td>1022.510000</td>\n",
       "      <td>1021.560000</td>\n",
       "      <td>1022.000000</td>\n",
       "    </tr>\n",
       "    <tr>\n",
       "      <th>50%</th>\n",
       "      <td>1026.880000</td>\n",
       "      <td>1027.493900</td>\n",
       "      <td>1025.990000</td>\n",
       "      <td>1026.850000</td>\n",
       "    </tr>\n",
       "    <tr>\n",
       "      <th>75%</th>\n",
       "      <td>1041.750000</td>\n",
       "      <td>1042.365000</td>\n",
       "      <td>1041.324000</td>\n",
       "      <td>1041.890000</td>\n",
       "    </tr>\n",
       "    <tr>\n",
       "      <th>max</th>\n",
       "      <td>1055.475000</td>\n",
       "      <td>1055.630000</td>\n",
       "      <td>1054.350000</td>\n",
       "      <td>1055.450000</td>\n",
       "    </tr>\n",
       "  </tbody>\n",
       "</table>\n",
       "</div>"
      ],
      "text/plain": [
       "              Open         High          Low        Close\n",
       "count   389.000000   389.000000   389.000000   389.000000\n",
       "mean   1031.254140  1031.936498  1030.604140  1031.263224\n",
       "std      11.379703    11.337249    11.367732    11.355548\n",
       "min    1009.680000  1010.310000  1008.400000  1009.680000\n",
       "25%    1022.000000  1022.510000  1021.560000  1022.000000\n",
       "50%    1026.880000  1027.493900  1025.990000  1026.850000\n",
       "75%    1041.750000  1042.365000  1041.324000  1041.890000\n",
       "max    1055.475000  1055.630000  1054.350000  1055.450000"
      ]
     },
     "execution_count": 99,
     "metadata": {},
     "output_type": "execute_result"
    }
   ],
   "source": [
    "df.describe()"
   ]
  },
  {
   "cell_type": "code",
   "execution_count": 100,
   "metadata": {},
   "outputs": [
    {
     "data": {
      "text/html": [
       "<div>\n",
       "<style scoped>\n",
       "    .dataframe tbody tr th:only-of-type {\n",
       "        vertical-align: middle;\n",
       "    }\n",
       "\n",
       "    .dataframe tbody tr th {\n",
       "        vertical-align: top;\n",
       "    }\n",
       "\n",
       "    .dataframe thead th {\n",
       "        text-align: right;\n",
       "    }\n",
       "</style>\n",
       "<table border=\"1\" class=\"dataframe\">\n",
       "  <thead>\n",
       "    <tr style=\"text-align: right;\">\n",
       "      <th></th>\n",
       "      <th>Timestamp</th>\n",
       "      <th>Open</th>\n",
       "      <th>High</th>\n",
       "      <th>Low</th>\n",
       "      <th>Close</th>\n",
       "    </tr>\n",
       "  </thead>\n",
       "  <tbody>\n",
       "    <tr>\n",
       "      <th>0</th>\n",
       "      <td>2018-03-26 13:30:00</td>\n",
       "      <td>1046.00</td>\n",
       "      <td>1046.00</td>\n",
       "      <td>1046.0000</td>\n",
       "      <td>1046.00</td>\n",
       "    </tr>\n",
       "    <tr>\n",
       "      <th>1</th>\n",
       "      <td>2018-03-26 13:31:00</td>\n",
       "      <td>1049.01</td>\n",
       "      <td>1051.10</td>\n",
       "      <td>1046.1800</td>\n",
       "      <td>1046.70</td>\n",
       "    </tr>\n",
       "    <tr>\n",
       "      <th>2</th>\n",
       "      <td>2018-03-26 13:32:00</td>\n",
       "      <td>1051.65</td>\n",
       "      <td>1051.65</td>\n",
       "      <td>1048.5401</td>\n",
       "      <td>1048.77</td>\n",
       "    </tr>\n",
       "    <tr>\n",
       "      <th>3</th>\n",
       "      <td>2018-03-26 13:33:00</td>\n",
       "      <td>1053.00</td>\n",
       "      <td>1053.78</td>\n",
       "      <td>1050.9100</td>\n",
       "      <td>1051.05</td>\n",
       "    </tr>\n",
       "    <tr>\n",
       "      <th>4</th>\n",
       "      <td>2018-03-26 13:34:00</td>\n",
       "      <td>1050.60</td>\n",
       "      <td>1053.16</td>\n",
       "      <td>1050.6000</td>\n",
       "      <td>1052.78</td>\n",
       "    </tr>\n",
       "  </tbody>\n",
       "</table>\n",
       "</div>"
      ],
      "text/plain": [
       "            Timestamp     Open     High        Low    Close\n",
       "0 2018-03-26 13:30:00  1046.00  1046.00  1046.0000  1046.00\n",
       "1 2018-03-26 13:31:00  1049.01  1051.10  1046.1800  1046.70\n",
       "2 2018-03-26 13:32:00  1051.65  1051.65  1048.5401  1048.77\n",
       "3 2018-03-26 13:33:00  1053.00  1053.78  1050.9100  1051.05\n",
       "4 2018-03-26 13:34:00  1050.60  1053.16  1050.6000  1052.78"
      ]
     },
     "execution_count": 100,
     "metadata": {},
     "output_type": "execute_result"
    }
   ],
   "source": [
    "df.head()"
   ]
  },
  {
   "cell_type": "code",
   "execution_count": 101,
   "metadata": {},
   "outputs": [],
   "source": [
    "df = df[['Close','Timestamp']]"
   ]
  },
  {
   "cell_type": "code",
   "execution_count": 102,
   "metadata": {},
   "outputs": [],
   "source": [
    "df['ds'] = df.Timestamp\n",
    "df['y'] = pd.DataFrame(df['Close'])"
   ]
  },
  {
   "cell_type": "code",
   "execution_count": 103,
   "metadata": {},
   "outputs": [
    {
     "data": {
      "text/html": [
       "<div>\n",
       "<style scoped>\n",
       "    .dataframe tbody tr th:only-of-type {\n",
       "        vertical-align: middle;\n",
       "    }\n",
       "\n",
       "    .dataframe tbody tr th {\n",
       "        vertical-align: top;\n",
       "    }\n",
       "\n",
       "    .dataframe thead th {\n",
       "        text-align: right;\n",
       "    }\n",
       "</style>\n",
       "<table border=\"1\" class=\"dataframe\">\n",
       "  <thead>\n",
       "    <tr style=\"text-align: right;\">\n",
       "      <th></th>\n",
       "      <th>ds</th>\n",
       "      <th>y</th>\n",
       "    </tr>\n",
       "  </thead>\n",
       "  <tbody>\n",
       "    <tr>\n",
       "      <th>0</th>\n",
       "      <td>2018-03-26 13:30:00</td>\n",
       "      <td>1046.00</td>\n",
       "    </tr>\n",
       "    <tr>\n",
       "      <th>1</th>\n",
       "      <td>2018-03-26 13:31:00</td>\n",
       "      <td>1046.70</td>\n",
       "    </tr>\n",
       "    <tr>\n",
       "      <th>2</th>\n",
       "      <td>2018-03-26 13:32:00</td>\n",
       "      <td>1048.77</td>\n",
       "    </tr>\n",
       "    <tr>\n",
       "      <th>3</th>\n",
       "      <td>2018-03-26 13:33:00</td>\n",
       "      <td>1051.05</td>\n",
       "    </tr>\n",
       "    <tr>\n",
       "      <th>4</th>\n",
       "      <td>2018-03-26 13:34:00</td>\n",
       "      <td>1052.78</td>\n",
       "    </tr>\n",
       "  </tbody>\n",
       "</table>\n",
       "</div>"
      ],
      "text/plain": [
       "                   ds        y\n",
       "0 2018-03-26 13:30:00  1046.00\n",
       "1 2018-03-26 13:31:00  1046.70\n",
       "2 2018-03-26 13:32:00  1048.77\n",
       "3 2018-03-26 13:33:00  1051.05\n",
       "4 2018-03-26 13:34:00  1052.78"
      ]
     },
     "execution_count": 103,
     "metadata": {},
     "output_type": "execute_result"
    }
   ],
   "source": [
    "df.pop('Close')\n",
    "df.pop('Timestamp')\n",
    "df.head()"
   ]
  },
  {
   "cell_type": "code",
   "execution_count": 104,
   "metadata": {},
   "outputs": [
    {
     "data": {
      "image/png": "[encoded data removed]",
      "text/plain": [
       "<Figure size 432x288 with 1 Axes>"
      ]
     },
     "metadata": {},
     "output_type": "display_data"
    }
   ],
   "source": [
    "# log transform data\n",
    "df['y'] = pd.DataFrame(np.log(df['y']))\n",
    " \n",
    "# plot data\n",
    "ax = df.set_index('ds').plot(color='#006699');\n",
    "ax.set_ylabel('Price');\n",
    "ax.set_xlabel('Date');\n",
    "#plt.savefig('./img/log_transformed_passenger.png')\n",
    "plt.show()"
   ]
  },
  {
   "cell_type": "code",
   "execution_count": 105,
   "metadata": {},
   "outputs": [
    {
     "data": {
      "text/plain": [
       "(389, 2)"
      ]
     },
     "execution_count": 105,
     "metadata": {},
     "output_type": "execute_result"
    }
   ],
   "source": [
    "df.shape"
   ]
  },
  {
   "cell_type": "code",
   "execution_count": 114,
   "metadata": {},
   "outputs": [],
   "source": [
    "# train test split\n",
    "df_train = df[:300]\n",
    "df_test = df[300:]"
   ]
  },
  {
   "cell_type": "code",
   "execution_count": 122,
   "metadata": {},
   "outputs": [
    {
     "name": "stderr",
     "output_type": "stream",
     "text": [
      "INFO:fbprophet.forecaster:Disabling yearly seasonality. Run prophet with yearly_seasonality=True to override this.\n",
      "INFO:fbprophet.forecaster:Disabling weekly seasonality. Run prophet with weekly_seasonality=True to override this.\n",
      "/home/aurobindo/anaconda3/lib/python3.6/site-packages/pystan/misc.py:399: FutureWarning: Conversion of the second argument of issubdtype from `float` to `np.floating` is deprecated. In future, it will be treated as `np.float64 == np.dtype(float).type`.\n",
      "  elif np.issubdtype(np.asarray(v).dtype, float):\n"
     ]
    }
   ],
   "source": [
    "# instantiate the Prophet class\n",
    "mdl = Prophet(daily_seasonality=True)\n",
    " \n",
    "# fit the model on the training data\n",
    "mdl.fit(df_train)\n",
    " \n",
    "# define future time frame\n",
    "future = mdl.make_future_dataframe(periods=179, freq='M')"
   ]
  },
  {
   "cell_type": "code",
   "execution_count": 123,
   "metadata": {},
   "outputs": [
    {
     "data": {
      "text/html": [
       "<div>\n",
       "<style scoped>\n",
       "    .dataframe tbody tr th:only-of-type {\n",
       "        vertical-align: middle;\n",
       "    }\n",
       "\n",
       "    .dataframe tbody tr th {\n",
       "        vertical-align: top;\n",
       "    }\n",
       "\n",
       "    .dataframe thead th {\n",
       "        text-align: right;\n",
       "    }\n",
       "</style>\n",
       "<table border=\"1\" class=\"dataframe\">\n",
       "  <thead>\n",
       "    <tr style=\"text-align: right;\">\n",
       "      <th></th>\n",
       "      <th>ds</th>\n",
       "      <th>yhat</th>\n",
       "      <th>yhat_lower</th>\n",
       "      <th>yhat_upper</th>\n",
       "    </tr>\n",
       "  </thead>\n",
       "  <tbody>\n",
       "    <tr>\n",
       "      <th>474</th>\n",
       "      <td>2032-09-30 18:31:00</td>\n",
       "      <td>11679.433604</td>\n",
       "      <td>-3.248463e+06</td>\n",
       "      <td>3.394543e+06</td>\n",
       "    </tr>\n",
       "    <tr>\n",
       "      <th>475</th>\n",
       "      <td>2032-10-31 18:31:00</td>\n",
       "      <td>11747.680907</td>\n",
       "      <td>-3.270058e+06</td>\n",
       "      <td>3.432611e+06</td>\n",
       "    </tr>\n",
       "    <tr>\n",
       "      <th>476</th>\n",
       "      <td>2032-11-30 18:31:00</td>\n",
       "      <td>11813.726684</td>\n",
       "      <td>-3.316734e+06</td>\n",
       "      <td>3.460313e+06</td>\n",
       "    </tr>\n",
       "    <tr>\n",
       "      <th>477</th>\n",
       "      <td>2032-12-31 18:31:00</td>\n",
       "      <td>11881.973988</td>\n",
       "      <td>-3.358952e+06</td>\n",
       "      <td>3.481674e+06</td>\n",
       "    </tr>\n",
       "    <tr>\n",
       "      <th>478</th>\n",
       "      <td>2033-01-31 18:31:00</td>\n",
       "      <td>11950.221291</td>\n",
       "      <td>-3.391594e+06</td>\n",
       "      <td>3.501235e+06</td>\n",
       "    </tr>\n",
       "  </tbody>\n",
       "</table>\n",
       "</div>"
      ],
      "text/plain": [
       "                     ds          yhat    yhat_lower    yhat_upper\n",
       "474 2032-09-30 18:31:00  11679.433604 -3.248463e+06  3.394543e+06\n",
       "475 2032-10-31 18:31:00  11747.680907 -3.270058e+06  3.432611e+06\n",
       "476 2032-11-30 18:31:00  11813.726684 -3.316734e+06  3.460313e+06\n",
       "477 2032-12-31 18:31:00  11881.973988 -3.358952e+06  3.481674e+06\n",
       "478 2033-01-31 18:31:00  11950.221291 -3.391594e+06  3.501235e+06"
      ]
     },
     "execution_count": 123,
     "metadata": {},
     "output_type": "execute_result"
    }
   ],
   "source": [
    "# generate the forecast\n",
    "forecast = mdl.predict(future)\n",
    "forecast[['ds', 'yhat', 'yhat_lower', 'yhat_upper']].tail()"
   ]
  },
  {
   "cell_type": "code",
   "execution_count": 117,
   "metadata": {},
   "outputs": [
    {
     "data": {
      "image/png": "[encoded data removed]",
      "text/plain": [
       "<Figure size 720x432 with 1 Axes>"
      ]
     },
     "metadata": {},
     "output_type": "display_data"
    }
   ],
   "source": [
    "mdl.plot(forecast);\n",
    "plt.show()"
   ]
  },
  {
   "cell_type": "code",
   "execution_count": 118,
   "metadata": {},
   "outputs": [
    {
     "data": {
      "image/png": "[encoded data removed]",
      "text/plain": [
       "<Figure size 648x432 with 2 Axes>"
      ]
     },
     "metadata": {},
     "output_type": "display_data"
    }
   ],
   "source": [
    "# plot time series components\n",
    "mdl.plot_components(forecast)\n",
    "plt.show()"
   ]
  },
  {
   "cell_type": "code",
   "execution_count": 119,
   "metadata": {},
   "outputs": [],
   "source": [
    "y_hat = np.exp(forecast['yhat'][300:])\n",
    "y_true = np.exp(df_test['y'])"
   ]
  },
  {
   "cell_type": "code",
   "execution_count": 120,
   "metadata": {},
   "outputs": [
    {
     "name": "stdout",
     "output_type": "stream",
     "text": [
      "Prediction quality: 1470486743601.71 MSE (1212636.28 RMSE)\n"
     ]
    }
   ],
   "source": [
    "# retransform using e\n",
    "import math\n",
    "y_hat = np.exp(forecast['yhat'][300:])\n",
    "y_true = np.exp(df_test['y'])\n",
    " \n",
    "# compute the mean square error\n",
    "mse = ((y_hat - y_true) ** 2).mean()\n",
    "print('Prediction quality: {:.2f} MSE ({:.2f} RMSE)'.format(mse, math.sqrt(mse)))"
   ]
  },
  {
   "cell_type": "code",
   "execution_count": 121,
   "metadata": {},
   "outputs": [
    {
     "data": {
      "image/png": "[encoded data removed]",
      "text/plain": [
       "<Figure size 432x288 with 1 Axes>"
      ]
     },
     "metadata": {},
     "output_type": "display_data"
    }
   ],
   "source": [
    "plt.plot(y_true, label='Original', color='#00FF90');\n",
    "plt.plot(y_hat, color='#ff0066', label='Forecast');\n",
    "#plt.fill_between(df_test.index,y_true, color='#ff0066', alpha=0.25)\n",
    "plt.ylabel('Passengers');\n",
    "plt.xlabel('Date');\n",
    "#plt.savefig('./img/prophet_forecast.png')\n",
    "plt.show()"
   ]
  },
  {
   "cell_type": "code",
   "execution_count": null,
   "metadata": {},
   "outputs": [],
   "source": []
  }
 ],
 "metadata": {
  "kernelspec": {
   "display_name": "Python 3",
   "language": "python",
   "name": "python3"
  },
  "language_info": {
   "codemirror_mode": {
    "name": "ipython",
    "version": 3
   },
   "file_extension": ".py",
   "mimetype": "text/x-python",
   "name": "python",
   "nbconvert_exporter": "python",
   "pygments_lexer": "ipython3",
   "version": "3.6.6"
  }
 },
 "nbformat": 4,
 "nbformat_minor": 2
}
